{
 "cells": [
  {
   "cell_type": "code",
   "execution_count": 1,
   "metadata": {
    "_cell_guid": "b1076dfc-b9ad-4769-8c92-a6c4dae69d19",
    "_uuid": "8f2839f25d086af736a60e9eeb907d3b93b6e0e5"
   },
   "outputs": [
    {
     "name": "stderr",
     "output_type": "stream",
     "text": [
      "Using TensorFlow backend.\n"
     ]
    },
    {
     "name": "stdout",
     "output_type": "stream",
     "text": [
      "['embeddings', 'train.csv', 'sample_submission.csv', 'test.csv']\n"
     ]
    }
   ],
   "source": [
    "# This Python 3 environment comes with many helpful analytics libraries installed\n",
    "# It is defined by the kaggle/python docker image: https://github.com/kaggle/docker-python\n",
    "# For example, here's several helpful packages to load in \n",
    "\n",
    "import numpy as np # linear algebra\n",
    "import pandas as pd # data processing, CSV file I/O (e.g. pd.read_csv)\n",
    "from gensim.models import Word2Vec\n",
    "from keras.preprocessing.text import Tokenizer\n",
    "from keras.preprocessing.sequence import pad_sequences\n",
    "import time\n",
    "import nltk, re, string\n",
    "from sklearn.model_selection import train_test_split, StratifiedKFold\n",
    "import gc\n",
    "from keras.layers import *\n",
    "from keras.models import *\n",
    "from keras.initializers import *\n",
    "from keras.optimizers import *\n",
    "import keras.backend as K\n",
    "from keras.callbacks import *\n",
    "from sklearn import metrics\n",
    "\n",
    "# Input data files are available in the \"../input/\" directory.\n",
    "# For example, running this (by clicking run or pressing Shift+Enter) will list the files in the input directory\n",
    "\n",
    "import os\n",
    "print(os.listdir(\"../input\"))\n",
    "\n",
    "# Any results you write to the current directory are saved as output."
   ]
  },
  {
   "cell_type": "code",
   "execution_count": 2,
   "metadata": {
    "_cell_guid": "79c7e3d0-c299-4dcb-8224-4455121ee9b0",
    "_uuid": "d629ff2d2480ee46fbb7e2d37f6b5fab8052498a"
   },
   "outputs": [],
   "source": [
    "max_features = 95000 # how many unique words to use (i.e num rows in embedding vector)\n",
    "maxlen = 70 # max number of words in a question to use"
   ]
  },
  {
   "cell_type": "code",
   "execution_count": 3,
   "metadata": {
    "_uuid": "ff5bd4e46ecfb600cc0e30481ee48001dcdbb7b7"
   },
   "outputs": [],
   "source": [
    "puncts = [',', '.', '\"', ':', ')', '(', '-', '!', '?', '|', ';', \"'\", '$', '&', '/', '[', ']', '>', '%', '=', '#', '*', '+', '\\\\', '•',  '~', '@', '£', \n",
    " '·', '_', '{', '}', '©', '^', '®', '`',  '<', '→', '°', '€', '™', '›',  '♥', '←', '×', '§', '″', '′', 'Â', '█', '½', 'à', '…', \n",
    " '“', '★', '”', '–', '●', 'â', '►', '−', '¢', '²', '¬', '░', '¶', '↑', '±', '¿', '▾', '═', '¦', '║', '―', '¥', '▓', '—', '‹', '─', \n",
    " '▒', '：', '¼', '⊕', '▼', '▪', '†', '■', '’', '▀', '¨', '▄', '♫', '☆', 'é', '¯', '♦', '¤', '▲', 'è', '¸', '¾', 'Ã', '⋅', '‘', '∞', \n",
    " '∙', '）', '↓', '、', '│', '（', '»', '，', '♪', '╩', '╚', '³', '・', '╦', '╣', '╔', '╗', '▬', '❤', 'ï', 'Ø', '¹', '≤', '‡', '√', ]\n",
    "def clean_text(x):\n",
    "    x = str(x)\n",
    "    for punct in puncts:\n",
    "        x = x.replace(punct, f' {punct} ')\n",
    "    return x\n",
    "\n",
    "mispell_dict = {\"ain't\": \"is not\", \"aren't\": \"are not\",\"can't\": \"cannot\", \"'cause\": \"because\", \"could've\": \"could have\", \"couldn't\": \"could not\", \n",
    "                \"didn't\": \"did not\",  \"doesn't\": \"does not\", \"don't\": \"do not\", \"hadn't\": \"had not\", \"hasn't\": \"has not\", \"haven't\": \"have not\", \n",
    "                \"he'd\": \"he would\",\"he'll\": \"he will\", \"he's\": \"he is\", \"how'd\": \"how did\", \"how'd'y\": \"how do you\", \"how'll\": \"how will\", \n",
    "                \"how's\": \"how is\",  \"I'd\": \"I would\", \"I'd've\": \"I would have\", \"I'll\": \"I will\", \"I'll've\": \"I will have\",\"I'm\": \"I am\", \n",
    "                \"I've\": \"I have\", \"i'd\": \"i would\", \"i'd've\": \"i would have\", \"i'll\": \"i will\",  \"i'll've\": \"i will have\",\"i'm\": \"i am\", \n",
    "                \"i've\": \"i have\", \"isn't\": \"is not\", \"it'd\": \"it would\", \"it'd've\": \"it would have\", \"it'll\": \"it will\", \"it'll've\": \"it will have\",\n",
    "                \"it's\": \"it is\", \"let's\": \"let us\", \"ma'am\": \"madam\", \"mayn't\": \"may not\", \"might've\": \"might have\",\"mightn't\": \"might not\",\n",
    "                \"mightn't've\": \"might not have\", \"must've\": \"must have\", \"mustn't\": \"must not\", \"mustn't've\": \"must not have\", \"needn't\": \n",
    "                \"need not\", \"needn't've\": \"need not have\",\"o'clock\": \"of the clock\", \"oughtn't\": \"ought not\", \"oughtn't've\": \"ought not have\", \n",
    "                \"shan't\": \"shall not\", \"sha'n't\": \"shall not\", \"shan't've\": \"shall not have\", \"she'd\": \"she would\", \"she'd've\": \"she would have\", \n",
    "                \"she'll\": \"she will\", \"she'll've\": \"she will have\", \"she's\": \"she is\", \"should've\": \"should have\", \"shouldn't\": \"should not\", \n",
    "                \"shouldn't've\": \"should not have\", \"so've\": \"so have\",\"so's\": \"so as\", \"this's\": \"this is\",\"that'd\": \"that would\", \"that'd've\": \"that would have\", \n",
    "                \"that's\": \"that is\", \"there'd\": \"there would\", \"there'd've\": \"there would have\", \"there's\": \"there is\", \"here's\": \"here is\",\"they'd\": \"they would\", \n",
    "                \"they'd've\": \"they would have\", \"they'll\": \"they will\", \"they'll've\": \"they will have\", \"they're\": \"they are\", \"they've\": \"they have\", \"to've\": \"to have\", \n",
    "                \"wasn't\": \"was not\", \"we'd\": \"we would\", \"we'd've\": \"we would have\", \"we'll\": \"we will\", \"we'll've\": \"we will have\", \"we're\": \"we are\", \"we've\": \"we have\", \n",
    "                \"weren't\": \"were not\", \"what'll\": \"what will\", \"what'll've\": \"what will have\", \"what're\": \"what are\",  \"what's\": \"what is\", \"what've\": \"what have\", \n",
    "                \"when's\": \"when is\", \"when've\": \"when have\", \"where'd\": \"where did\", \"where's\": \"where is\", \"where've\": \"where have\", \"who'll\": \"who will\", \n",
    "                \"who'll've\": \"who will have\", \"who's\": \"who is\", \"who've\": \"who have\", \"why's\": \"why is\", \"why've\": \"why have\", \"will've\": \"will have\", \"won't\": \"will not\", \"won't've\": \"will not have\", \"would've\": \"would have\", \"wouldn't\": \"would not\", \"wouldn't've\": \"would not have\", \"y'all\": \"you all\", \"y'all'd\": \"you all would\",\"y'all'd've\": \"you all would have\",\"y'all're\": \"you all are\",\"y'all've\": \"you all have\",\"you'd\": \"you would\", \"you'd've\": \"you would have\", \"you'll\": \"you will\", \"you'll've\": \"you will have\", \"you're\": \"you are\", \"you've\": \"you have\", 'colour': 'color', 'centre': 'center', 'favourite': 'favorite', 'travelling': 'traveling', 'counselling': 'counseling', 'theatre': 'theater', 'cancelled': 'canceled', 'labour': 'labor', 'organisation': 'organization', 'wwii': 'world war 2', 'citicise': 'criticize', 'youtu ': 'youtube ', 'Qoura': 'Quora', 'sallary': 'salary', 'Whta': 'What', 'narcisist': 'narcissist', 'howdo': 'how do', 'whatare': 'what are', 'howcan': 'how can', 'howmuch': 'how much', 'howmany': 'how many', 'whydo': 'why do', 'doI': 'do I', 'theBest': 'the best', 'howdoes': 'how does', 'mastrubation': 'masturbation', 'mastrubate': 'masturbate', \"mastrubating\": 'masturbating', 'pennis': 'penis', 'Etherium': 'Ethereum', 'narcissit': 'narcissist', 'bigdata': 'big data', '2k17': '2017', '2k18': '2018', 'qouta': 'quota', 'exboyfriend': 'ex boyfriend', 'airhostess': 'air hostess', \"whst\": 'what', 'watsapp': 'whatsapp', 'demonitisation': 'demonetization', 'demonitization': 'demonetization', 'demonetisation': 'demonetization'}\n",
    "\n",
    "def _get_mispell(mispell_dict):\n",
    "    mispell_re = re.compile('(%s)' % '|'.join(mispell_dict.keys()))\n",
    "    return mispell_dict, mispell_re\n",
    "\n",
    "mispellings, mispellings_re = _get_mispell(mispell_dict)\n",
    "def replace_typical_misspell(text):\n",
    "    def replace(match):\n",
    "        return mispellings[match.group(0)]\n",
    "    return mispellings_re.sub(replace, text)"
   ]
  },
  {
   "cell_type": "code",
   "execution_count": 4,
   "metadata": {
    "_uuid": "37c76be5403c8a854f95df94897707dda4bf1d0d"
   },
   "outputs": [],
   "source": [
    "train_df = pd.read_csv('../input/train.csv')\n",
    "test_df = pd.read_csv('../input/test.csv')\n",
    "\n",
    "train_df[\"question_text\"] = train_df[\"question_text\"].str.lower()\n",
    "test_df[\"question_text\"] = test_df[\"question_text\"].str.lower()\n",
    "\n",
    "train_df[\"question_text\"] = train_df[\"question_text\"].apply(lambda x: clean_text(x))\n",
    "test_df[\"question_text\"] = test_df[\"question_text\"].apply(lambda x: clean_text(x))\n",
    "\n",
    "train_df[\"question_text\"] = train_df[\"question_text\"].apply(lambda x: replace_typical_misspell(x))\n",
    "test_df[\"question_text\"] = test_df[\"question_text\"].apply(lambda x: replace_typical_misspell(x))\n",
    "\n",
    "train_X = train_df[\"question_text\"].fillna(\"_##_\").values\n",
    "test_X = test_df[\"question_text\"].fillna(\"_##_\").values\n",
    "\n",
    "train_y = train_df['target'].values\n"
   ]
  },
  {
   "cell_type": "code",
   "execution_count": 5,
   "metadata": {
    "_uuid": "f8cee3aec4cedd9360919ba5b01b8759e9764ed9"
   },
   "outputs": [],
   "source": [
    "tokenizer = Tokenizer(num_words=max_features)\n",
    "tokenizer.fit_on_texts(list(train_X)+list(test_X))\n",
    "train_X = tokenizer.texts_to_sequences(train_X)\n",
    "test_X = tokenizer.texts_to_sequences(test_X)\n",
    "\n",
    "train_X = pad_sequences(train_X, maxlen=maxlen)\n",
    "test_X = pad_sequences(test_X, maxlen=maxlen)\n",
    "\n",
    "word_index = tokenizer.word_index"
   ]
  },
  {
   "cell_type": "code",
   "execution_count": 6,
   "metadata": {
    "_uuid": "6f124628270c850697253ee61eda6903c3d35192"
   },
   "outputs": [
    {
     "name": "stdout",
     "output_type": "stream",
     "text": [
      "200593\n"
     ]
    }
   ],
   "source": [
    "count = 0\n",
    "nb_words = len(word_index)  # 200593\n",
    "print(nb_words)"
   ]
  },
  {
   "cell_type": "code",
   "execution_count": 7,
   "metadata": {
    "_uuid": "e50c229dd3a8c6296bbd1f3cf7ac1a700e9392a0"
   },
   "outputs": [
    {
     "name": "stdout",
     "output_type": "stream",
     "text": [
      "add word2vec finished....\n",
      "Running time: 750.5333810000001 Seconds\n"
     ]
    }
   ],
   "source": [
    "start =time.clock()\n",
    "all_data=pd.concat([train_df[\"question_text\"],test_df[\"question_text\"]])\n",
    "# file_name = './word2vec.model'\n",
    "# if not os.path.exists(file_name):\n",
    "model = Word2Vec([[word for word in sentence.split(' ')] for sentence in all_data.values],\n",
    "                     size=200, window=5, iter=10, workers=11, seed=2018, min_count=2)\n",
    "#     model.save(file_name)\n",
    "# else:\n",
    "#     model = Word2Vec.load(file_name)\n",
    "print(\"add word2vec finished....\")  \n",
    "end = time.clock()\n",
    "print('Running time: %s Seconds'%(end-start))"
   ]
  },
  {
   "cell_type": "code",
   "execution_count": 8,
   "metadata": {
    "_uuid": "0cd1d457e66f09a2290100842264fb677311a146"
   },
   "outputs": [
    {
     "name": "stdout",
     "output_type": "stream",
     "text": [
      "ned 0.7773456573486328\n",
      "rey 0.6560162305831909\n",
      "sam 0.6434968709945679\n",
      "roy 0.6403218507766724\n",
      "jon 0.6266370415687561\n",
      "lee 0.619312047958374\n"
     ]
    },
    {
     "name": "stderr",
     "output_type": "stream",
     "text": [
      "/opt/conda/lib/python3.6/site-packages/gensim/matutils.py:737: FutureWarning: Conversion of the second argument of issubdtype from `int` to `np.signedinteger` is deprecated. In future, it will be treated as `np.int64 == np.dtype(int).type`.\n",
      "  if np.issubdtype(vec.dtype, np.int):\n"
     ]
    }
   ],
   "source": [
    "req_count = 10\n",
    "for key in model.wv.similar_by_word('tony', topn =100):\n",
    "    if len(key[0])==3:\n",
    "        req_count -= 1\n",
    "        print(key[0], key[1])\n",
    "        if req_count == 0:\n",
    "            break;"
   ]
  },
  {
   "cell_type": "code",
   "execution_count": 9,
   "metadata": {
    "_uuid": "7771f740bb99fe29fa695f6c3d014552635c34ee"
   },
   "outputs": [
    {
     "data": {
      "text/plain": [
       "0"
      ]
     },
     "execution_count": 9,
     "metadata": {},
     "output_type": "execute_result"
    }
   ],
   "source": [
    "del train_df; gc.collect()\n",
    "del test_df; gc.collect()\n",
    "del all_data; gc.collect()\n",
    "del tokenizer; gc.collect()"
   ]
  },
  {
   "cell_type": "code",
   "execution_count": 10,
   "metadata": {
    "_uuid": "619f733001ca3674d6f2d73e45c5e004c8b1869f"
   },
   "outputs": [
    {
     "name": "stderr",
     "output_type": "stream",
     "text": [
      "/opt/conda/lib/python3.6/site-packages/ipykernel_launcher.py:5: DeprecationWarning: Call to deprecated `__contains__` (Method will be removed in 4.0.0, use self.wv.__contains__() instead).\n",
      "  \"\"\"\n",
      "/opt/conda/lib/python3.6/site-packages/ipykernel_launcher.py:5: DeprecationWarning: Call to deprecated `__getitem__` (Method will be removed in 4.0.0, use self.wv.__getitem__() instead).\n",
      "  \"\"\"\n"
     ]
    }
   ],
   "source": [
    "nb_words = min(max_features, len(word_index))\n",
    "embedding_word2vec_matrix = np.zeros((nb_words, 200))  # (95000, 200)\n",
    "for word, i in word_index.items():\n",
    "    if i >= max_features: continue\n",
    "    embedding_vector = model[word] if word in model else None\n",
    "    if embedding_vector is not None:\n",
    "        count += 1\n",
    "        embedding_word2vec_matrix[i] = embedding_vector\n",
    "    else:\n",
    "        unk_vec = np.random.random(200) * 0.5\n",
    "        unk_vec = unk_vec - unk_vec.mean()\n",
    "        embedding_word2vec_matrix[i] = unk_vec"
   ]
  },
  {
   "cell_type": "code",
   "execution_count": 11,
   "metadata": {
    "_uuid": "34f90b19d374f25398d6e29caa5c106f38d34cc0"
   },
   "outputs": [
    {
     "name": "stdout",
     "output_type": "stream",
     "text": [
      "(95000, 200)\n"
     ]
    }
   ],
   "source": [
    "print(embedding_word2vec_matrix.shape)\n",
    "# del model; gc.collect()  # biyao"
   ]
  },
  {
   "cell_type": "code",
   "execution_count": 12,
   "metadata": {
    "_uuid": "339cb30da4e5328769837f919d94854f252ebb03"
   },
   "outputs": [
    {
     "name": "stderr",
     "output_type": "stream",
     "text": [
      "/opt/conda/lib/python3.6/site-packages/ipykernel_launcher.py:5: FutureWarning: arrays to stack must be passed as a \"sequence\" type such as list or tuple. Support for non-sequence iterables such as generators is deprecated as of NumPy 1.16 and will raise an error in the future.\n",
      "  \"\"\"\n"
     ]
    }
   ],
   "source": [
    "EMBEDDING_FILE = '../input/embeddings/glove.840B.300d/glove.840B.300d.txt'\n",
    "def get_coefs(word,*arr): return word, np.asarray(arr, dtype='float32')\n",
    "embeddings_index = dict(get_coefs(*o.split(\" \")) for o in open(EMBEDDING_FILE))\n",
    "\n",
    "all_embs = np.stack(embeddings_index.values())\n",
    "emb_mean,emb_std = -0.005838499,0.48782197\n",
    "embed_size = all_embs.shape[1]\n",
    "\n",
    "# word_index = tokenizer.word_index\n",
    "nb_words = min(max_features, len(word_index))\n",
    "embedding_glove_matrix = np.random.normal(emb_mean, emb_std, (nb_words, embed_size))\n",
    "for word, i in word_index.items():\n",
    "    if i >= max_features: continue\n",
    "    embedding_vector = embeddings_index.get(word)\n",
    "    if embedding_vector is not None: embedding_glove_matrix[i] = embedding_vector"
   ]
  },
  {
   "cell_type": "code",
   "execution_count": 13,
   "metadata": {
    "_uuid": "bb37dea253bcc41f3daf8dbeeb2575bb06f190c1"
   },
   "outputs": [],
   "source": [
    "embedding_matrix=np.concatenate((embedding_word2vec_matrix,embedding_glove_matrix),axis=1)"
   ]
  },
  {
   "cell_type": "code",
   "execution_count": 14,
   "metadata": {
    "_uuid": "d2f7ada23b3cd39503e70b6d10bb8d4c1d86ea93"
   },
   "outputs": [
    {
     "data": {
      "text/plain": [
       "0"
      ]
     },
     "execution_count": 14,
     "metadata": {},
     "output_type": "execute_result"
    }
   ],
   "source": [
    "del word_index; gc.collect()\n",
    "del embeddings_index; gc.collect()\n",
    "del all_embs; gc.collect() # biyao\n",
    "del embedding_word2vec_matrix; gc.collect()\n",
    "del embedding_glove_matrix; gc.collect()"
   ]
  },
  {
   "cell_type": "code",
   "execution_count": 15,
   "metadata": {
    "_uuid": "18290cf03e419ee78b20079eec1d7690c4d39175"
   },
   "outputs": [],
   "source": [
    "def bi_gru_model(embeddings_weight):\n",
    "    K.clear_session()\n",
    "    content = Input(shape=(maxlen,))\n",
    "    embedding = Embedding(\n",
    "        name=\"word_embedding\",\n",
    "        input_dim=embeddings_weight.shape[0],\n",
    "        weights=[embeddings_weight],\n",
    "        output_dim=embeddings_weight.shape[1],\n",
    "        trainable=False)\n",
    "#     embedding = Embedding(max_features, 500, weights=[embeddings_weight], trainable=False)(content)\n",
    "    x = SpatialDropout1D(0.2)(embedding(content))\n",
    "    x = Bidirectional(CuDNNGRU(200, return_sequences=True))(x)\n",
    "    x = Bidirectional(CuDNNGRU(200, return_sequences=True))(x)\n",
    "    avg_pool = GlobalAveragePooling1D()(x)\n",
    "    max_pool = GlobalMaxPooling1D()(x)\n",
    "    conc = concatenate([avg_pool, max_pool])\n",
    "    print(\"conc==\", conc.shape)\n",
    "    x = Dropout(0.2)(Activation(activation=\"relu\")(BatchNormalization()(Dense(1000)(conc))))\n",
    "    print(\"x shape==\", x.shape)\n",
    "    x = Activation(activation=\"relu\")(BatchNormalization()(Dense(500)(x)))\n",
    "\n",
    "    output = Dense(1, activation=\"sigmoid\")(x)\n",
    "\n",
    "    model = Model(inputs=content, outputs=output)\n",
    "#     model.compile(loss='categorical_crossentropy', optimizer='adam', metrics=['accuracy'])\n",
    "    model.compile(loss='binary_crossentropy', optimizer='adam', metrics=['accuracy'])\n",
    "\n",
    "    return model"
   ]
  },
  {
   "cell_type": "code",
   "execution_count": 16,
   "metadata": {
    "_uuid": "0a0c840121ddc51a3369889841f190388ba844b2"
   },
   "outputs": [
    {
     "name": "stdout",
     "output_type": "stream",
     "text": [
      "(1306122,)\n"
     ]
    }
   ],
   "source": [
    "print(train_y.shape)"
   ]
  },
  {
   "cell_type": "code",
   "execution_count": 17,
   "metadata": {
    "_uuid": "1a68fa84e2daa83bd912ce2137bd71cb30870847"
   },
   "outputs": [],
   "source": [
    "def train_pred(model, epochs=2):\n",
    "    kfold = StratifiedKFold(n_splits=3, random_state=10, shuffle=True)\n",
    "    pred_val_y = np.zeros(train_y.shape, )\n",
    "#     print(\"pred_val_y==\", pred_val_y.shape)\n",
    "#     index = []\n",
    "    for i, (train_index, valid_index) in enumerate(kfold.split(train_X, train_y)):\n",
    "#         index.append(valid_index)\n",
    "#         print(\"index::\", index)\n",
    "        X_train, X_val, Y_train, Y_val = train_X[train_index], train_X[valid_index], train_y[train_index], train_y[valid_index]\n",
    "        filepath=\"weights_best.h5\"\n",
    "        checkpoint = ModelCheckpoint(filepath, monitor='val_loss', verbose=2, \n",
    "                                     save_best_only=True, mode='min')\n",
    "        reduce_lr = ReduceLROnPlateau(monitor='val_loss', factor=0.6, patience=1, min_lr=0.0005, verbose=2)\n",
    "        earlystopping = EarlyStopping(monitor='val_loss', min_delta=0.0005, patience=2, verbose=2, mode='auto')\n",
    "        callbacks = [earlystopping, checkpoint, reduce_lr]\n",
    "        if i == 0:print(model.summary()) \n",
    "        model.fit(X_train, Y_train, batch_size=512, epochs=epochs, \n",
    "                  validation_data=(X_val, Y_val), verbose=1, callbacks=callbacks)\n",
    "        model.load_weights(filepath)\n",
    "        pred_val_y[valid_index] = np.squeeze(model.predict([X_val], batch_size=1024, verbose=1))\n",
    "#         print(\"pred_val_y[valid_index]==\", pred_val_y[valid_index].shape)  # (653061,)\n",
    "#         print(\"pred_y==\", pred_val_y.shape)  # (1306122,)\n",
    "        \n",
    "#         best_thresh = 0.5\n",
    "#         best_score = 0.0\n",
    "#         for thresh in np.arange(0.1, 0.501, 0.01):\n",
    "#             thresh = np.round(thresh, 2)\n",
    "#             score = metrics.f1_score(Y_val, (pred_val_y[valid_index] > thresh).astype(int))\n",
    "#             if score > best_score:\n",
    "#                 best_thresh = thresh\n",
    "#                 best_score = score\n",
    "#         print(\"Val F1 Score: {:.4f}\".format(best_score))    \n",
    "    pred_test_y = model.predict([test_X], batch_size=1024, verbose=0)\n",
    "    del model; gc.collect()\n",
    "    return pred_val_y, pred_test_y"
   ]
  },
  {
   "cell_type": "code",
   "execution_count": 18,
   "metadata": {
    "_uuid": "316e3999012a416fd470adeadb71b94f9c0cd443"
   },
   "outputs": [],
   "source": [
    "outputs = []"
   ]
  },
  {
   "cell_type": "code",
   "execution_count": 19,
   "metadata": {
    "_uuid": "edf3748be7d7d29e734020eb1ec3646c6bf69315"
   },
   "outputs": [
    {
     "name": "stdout",
     "output_type": "stream",
     "text": [
      "conc== (?, 800)\n",
      "x shape== (?, 1000)\n",
      "__________________________________________________________________________________________________\n",
      "Layer (type)                    Output Shape         Param #     Connected to                     \n",
      "==================================================================================================\n",
      "input_1 (InputLayer)            (None, 70)           0                                            \n",
      "__________________________________________________________________________________________________\n",
      "word_embedding (Embedding)      (None, 70, 500)      47500000    input_1[0][0]                    \n",
      "__________________________________________________________________________________________________\n",
      "spatial_dropout1d_1 (SpatialDro (None, 70, 500)      0           word_embedding[0][0]             \n",
      "__________________________________________________________________________________________________\n",
      "bidirectional_1 (Bidirectional) (None, 70, 400)      842400      spatial_dropout1d_1[0][0]        \n",
      "__________________________________________________________________________________________________\n",
      "bidirectional_2 (Bidirectional) (None, 70, 400)      722400      bidirectional_1[0][0]            \n",
      "__________________________________________________________________________________________________\n",
      "global_average_pooling1d_1 (Glo (None, 400)          0           bidirectional_2[0][0]            \n",
      "__________________________________________________________________________________________________\n",
      "global_max_pooling1d_1 (GlobalM (None, 400)          0           bidirectional_2[0][0]            \n",
      "__________________________________________________________________________________________________\n",
      "concatenate_1 (Concatenate)     (None, 800)          0           global_average_pooling1d_1[0][0] \n",
      "                                                                 global_max_pooling1d_1[0][0]     \n",
      "__________________________________________________________________________________________________\n",
      "dense_1 (Dense)                 (None, 1000)         801000      concatenate_1[0][0]              \n",
      "__________________________________________________________________________________________________\n",
      "batch_normalization_1 (BatchNor (None, 1000)         4000        dense_1[0][0]                    \n",
      "__________________________________________________________________________________________________\n",
      "activation_1 (Activation)       (None, 1000)         0           batch_normalization_1[0][0]      \n",
      "__________________________________________________________________________________________________\n",
      "dropout_1 (Dropout)             (None, 1000)         0           activation_1[0][0]               \n",
      "__________________________________________________________________________________________________\n",
      "dense_2 (Dense)                 (None, 500)          500500      dropout_1[0][0]                  \n",
      "__________________________________________________________________________________________________\n",
      "batch_normalization_2 (BatchNor (None, 500)          2000        dense_2[0][0]                    \n",
      "__________________________________________________________________________________________________\n",
      "activation_2 (Activation)       (None, 500)          0           batch_normalization_2[0][0]      \n",
      "__________________________________________________________________________________________________\n",
      "dense_3 (Dense)                 (None, 1)            501         activation_2[0][0]               \n",
      "==================================================================================================\n",
      "Total params: 50,372,801\n",
      "Trainable params: 2,869,801\n",
      "Non-trainable params: 47,503,000\n",
      "__________________________________________________________________________________________________\n",
      "None\n",
      "Train on 870747 samples, validate on 435375 samples\n",
      "Epoch 1/3\n",
      "870747/870747 [==============================] - 661s 759us/step - loss: 0.1182 - acc: 0.9524 - val_loss: 0.1031 - val_acc: 0.9591\n",
      "\n",
      "Epoch 00001: val_loss improved from inf to 0.10307, saving model to weights_best.h5\n",
      "Epoch 2/3\n",
      "870747/870747 [==============================] - 659s 757us/step - loss: 0.1009 - acc: 0.9594 - val_loss: 0.0995 - val_acc: 0.9601\n",
      "\n",
      "Epoch 00002: val_loss improved from 0.10307 to 0.09953, saving model to weights_best.h5\n",
      "Epoch 3/3\n",
      "870747/870747 [==============================] - 659s 757us/step - loss: 0.0950 - acc: 0.9615 - val_loss: 0.0981 - val_acc: 0.9603\n",
      "\n",
      "Epoch 00003: val_loss improved from 0.09953 to 0.09806, saving model to weights_best.h5\n",
      "435375/435375 [==============================] - 80s 184us/step\n",
      "Train on 870748 samples, validate on 435374 samples\n",
      "Epoch 1/3\n",
      "456192/870748 [==============>...............] - ETA: 4:32 - loss: 0.0945 - acc: 0.9616"
     ]
    }
   ],
   "source": [
    "pred_val_y, pred_test_y = train_pred(bi_gru_model(embedding_matrix), epochs = 3)\n",
    "outputs.append([pred_val_y, pred_test_y, 'bi_gru_model'])"
   ]
  },
  {
   "cell_type": "code",
   "execution_count": 20,
   "metadata": {
    "_uuid": "df9a19541d881164447786effc056175d1c6f878"
   },
   "outputs": [
    {
     "name": "stdout",
     "output_type": "stream",
     "text": [
      "[1.34684145e-02 1.73024796e-02 5.00112474e-05 ... 1.24474009e-03\n",
      " 4.00871295e-06 6.26944820e-04] [[5.0600199e-04]\n",
      " [3.1848896e-05]\n",
      " [5.8393960e-04]\n",
      " ...\n",
      " [1.0794923e-03]\n",
      " [4.6406719e-03]\n",
      " [9.4433337e-01]]\n"
     ]
    }
   ],
   "source": [
    "for output in outputs:\n",
    "    print(output[0], output[1])"
   ]
  },
  {
   "cell_type": "code",
   "execution_count": 21,
   "metadata": {
    "_uuid": "7f39c032c0e489532cffe819e052de572976025d"
   },
   "outputs": [],
   "source": [
    "# from sklearn.linear_model import LinearRegression\n",
    "# X = np.asarray([outputs[i][0] for i in range(len(outputs))])\n",
    "# X = X[...,0]\n",
    "# reg = LinearRegression().fit(X.T, val_y)\n",
    "# print(reg.score(X.T, val_y),reg.coef_)"
   ]
  },
  {
   "cell_type": "code",
   "execution_count": 22,
   "metadata": {
    "_uuid": "6ac998453222344c1d9d294f63bd1959f169ac81"
   },
   "outputs": [],
   "source": [
    "val_y = train_y"
   ]
  },
  {
   "cell_type": "code",
   "execution_count": 23,
   "metadata": {
    "_uuid": "ae85b37ed41fc9bef18507e527e6892a32b923c1"
   },
   "outputs": [],
   "source": [
    "# print(type(val_y[:10]))\n",
    "# print(type(pred_val_y[:10]))\n",
    "# print(type(outputs[0][:10]))"
   ]
  },
  {
   "cell_type": "code",
   "execution_count": 24,
   "metadata": {
    "_uuid": "cbb28c856b0aafd987ac5d3b4790d769b60c76a6",
    "scrolled": true
   },
   "outputs": [
    {
     "name": "stdout",
     "output_type": "stream",
     "text": [
      "F1 score at threshold 0.1 is 0.6238490585015654\n",
      "F1 score at threshold 0.11 is 0.6330776999845935\n",
      "F1 score at threshold 0.12 is 0.6417552100158025\n",
      "F1 score at threshold 0.13 is 0.6493111723402364\n",
      "F1 score at threshold 0.14 is 0.6565492680854524\n",
      "F1 score at threshold 0.15 is 0.662695608278647\n",
      "F1 score at threshold 0.16 is 0.6685082615561633\n",
      "F1 score at threshold 0.17 is 0.6740012565484598\n",
      "F1 score at threshold 0.18 is 0.6788047614261304\n",
      "F1 score at threshold 0.19 is 0.6832512506301625\n",
      "F1 score at threshold 0.2 is 0.6872859652049338\n",
      "F1 score at threshold 0.21 is 0.6908441445687495\n",
      "F1 score at threshold 0.22 is 0.6938445872397205\n",
      "F1 score at threshold 0.23 is 0.6970270311398324\n",
      "F1 score at threshold 0.24 is 0.6999912843307649\n",
      "F1 score at threshold 0.25 is 0.7023505590280834\n",
      "F1 score at threshold 0.26 is 0.7046595281914004\n",
      "F1 score at threshold 0.27 is 0.7066016218955905\n",
      "F1 score at threshold 0.28 is 0.7082689623576292\n",
      "F1 score at threshold 0.29 is 0.7098258439045366\n",
      "F1 score at threshold 0.3 is 0.7114348000563986\n",
      "F1 score at threshold 0.31 is 0.7123858706652734\n",
      "F1 score at threshold 0.32 is 0.7133690488670157\n",
      "F1 score at threshold 0.33 is 0.7143628179233368\n",
      "F1 score at threshold 0.34 is 0.7149362885857861\n",
      "F1 score at threshold 0.35 is 0.7152801732669068\n",
      "F1 score at threshold 0.36 is 0.715613700911341\n",
      "F1 score at threshold 0.37 is 0.7158406789601698\n",
      "F1 score at threshold 0.38 is 0.7158788427077715\n",
      "F1 score at threshold 0.39 is 0.715840924239058\n",
      "F1 score at threshold 0.4 is 0.7155691799799564\n",
      "F1 score at threshold 0.41 is 0.7148283097260446\n",
      "F1 score at threshold 0.42 is 0.7145467945760355\n",
      "F1 score at threshold 0.43 is 0.7142304764436498\n",
      "F1 score at threshold 0.44 is 0.7132256177803773\n",
      "F1 score at threshold 0.45 is 0.7120059950123463\n",
      "F1 score at threshold 0.46 is 0.7109971255823173\n",
      "F1 score at threshold 0.47 is 0.7094702648675661\n",
      "F1 score at threshold 0.48 is 0.7077661524506623\n",
      "F1 score at threshold 0.49 is 0.7056641170939955\n",
      "F1 score at threshold 0.5 is 0.7035166863177321\n",
      "Best threshold:  0.38\n"
     ]
    }
   ],
   "source": [
    "# pred_val_y = np.sum([outputs[i][0] * reg.coef_[i] for i in range(len(outputs))], axis = 0)\n",
    "# pred_val_y = np.mean([outputs[i][0] for i in range(len(outputs))], axis = 0) # to avoid overfitting, just take average\n",
    "pred_val_y = outputs[0][0]\n",
    "\n",
    "thresholds = []\n",
    "for thresh in np.arange(0.1, 0.501, 0.01):\n",
    "    thresh = np.round(thresh, 2)\n",
    "    res = metrics.f1_score(val_y, (pred_val_y > thresh).astype(int))\n",
    "    thresholds.append([thresh, res])\n",
    "    print(\"F1 score at threshold {0} is {1}\".format(thresh, res))\n",
    "    \n",
    "thresholds.sort(key=lambda x: x[1], reverse=True)\n",
    "best_thresh = thresholds[0][0]\n",
    "print(\"Best threshold: \", best_thresh)"
   ]
  },
  {
   "cell_type": "code",
   "execution_count": 25,
   "metadata": {
    "_uuid": "53fac9c626c89b4f008d8cf73b6b7e408ea18456"
   },
   "outputs": [],
   "source": [
    "# pred_test_y = np.sum([outputs[i][1] * reg.coef_[i] for i in range(len(outputs))], axis = 0)\n",
    "# pred_test_y = np.mean([outputs[i][1] for i in range(len(outputs))], axis = 0)\n",
    "pred_test_y = outputs[0][1]\n",
    "\n",
    "pred_test_y = (pred_test_y > best_thresh).astype(int)\n",
    "test_df = pd.read_csv(\"../input/test.csv\", usecols=[\"qid\"])\n",
    "out_df = pd.DataFrame({\"qid\":test_df[\"qid\"].values})\n",
    "out_df['prediction'] = pred_test_y\n",
    "out_df.to_csv(\"submission.csv\", index=False)"
   ]
  }
 ],
 "metadata": {
  "kernelspec": {
   "display_name": "Python 3",
   "language": "python",
   "name": "python3"
  },
  "language_info": {
   "codemirror_mode": {
    "name": "ipython",
    "version": 3
   },
   "file_extension": ".py",
   "mimetype": "text/x-python",
   "name": "python",
   "nbconvert_exporter": "python",
   "pygments_lexer": "ipython3",
   "version": "3.6.6"
  }
 },
 "nbformat": 4,
 "nbformat_minor": 1
}
